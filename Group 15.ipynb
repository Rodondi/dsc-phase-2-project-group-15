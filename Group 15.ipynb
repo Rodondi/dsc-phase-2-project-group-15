{
 "cells": [
  {
   "cell_type": "markdown",
   "metadata": {},
   "source": [
    "## Final Project Submission\n"
   ]
  },
  {
   "cell_type": "markdown",
   "metadata": {},
   "source": [
    "## Final Project Submission\n",
    "\n",
    "Please fill out:\n",
    "* Student name:\n",
    " \n",
    "                Joan Njoroge\n",
    "\n",
    "                Eunice Nduati\n",
    "\n",
    "                Rodgers Bob\n",
    "                \n",
    "                Maryan Hajir\n",
    "                \n",
    "* Student pace:  **part time** \n",
    "* Scheduled project review date/time: \n",
    "* Instructor name: **Maryann Mwikali**\n",
    "* Blog post URL:"
   ]
  },
  {
   "cell_type": "markdown",
   "metadata": {},
   "source": [
    "## BUSINESS PROBLEM\n",
    "\n",
    "### Seasonal Sales Analysis \n",
    "\n",
    "     Explore the impact of seasons on property sales within the real estate market and quantify these effects. Understanding seasonal variations is crucial in understanding how they affect the industry.\n",
    "\n",
    "### Property Price Prediction\n",
    "\n",
    "    Evaluate how property characteristics have an affect on their prices. This can aid in accurately predicting property prices."
   ]
  },
  {
   "cell_type": "markdown",
   "metadata": {},
   "source": [
    "## DATA CLEANING"
   ]
  },
  {
   "cell_type": "code",
   "execution_count": 133,
   "metadata": {},
   "outputs": [],
   "source": [
    "# Import necessary libraries\n",
    "import pandas as pd\n",
    "import numpy as np\n",
    "import matplotlib.pyplot as plt\n",
    "import seaborn as sns\n",
    "\n",
    "%matplotlib inline"
   ]
  },
  {
   "cell_type": "code",
   "execution_count": 134,
   "metadata": {},
   "outputs": [
    {
     "name": "stdout",
     "output_type": "stream",
     "text": [
      "<class 'pandas.core.frame.DataFrame'>\n",
      "RangeIndex: 21597 entries, 0 to 21596\n",
      "Data columns (total 21 columns):\n",
      " #   Column         Non-Null Count  Dtype  \n",
      "---  ------         --------------  -----  \n",
      " 0   id             21597 non-null  int64  \n",
      " 1   date           21597 non-null  object \n",
      " 2   price          21597 non-null  float64\n",
      " 3   bedrooms       21597 non-null  int64  \n",
      " 4   bathrooms      21597 non-null  float64\n",
      " 5   sqft_living    21597 non-null  int64  \n",
      " 6   sqft_lot       21597 non-null  int64  \n",
      " 7   floors         21597 non-null  float64\n",
      " 8   waterfront     19221 non-null  object \n",
      " 9   view           21534 non-null  object \n",
      " 10  condition      21597 non-null  object \n",
      " 11  grade          21597 non-null  object \n",
      " 12  sqft_above     21597 non-null  int64  \n",
      " 13  sqft_basement  21597 non-null  object \n",
      " 14  yr_built       21597 non-null  int64  \n",
      " 15  yr_renovated   17755 non-null  float64\n",
      " 16  zipcode        21597 non-null  int64  \n",
      " 17  lat            21597 non-null  float64\n",
      " 18  long           21597 non-null  float64\n",
      " 19  sqft_living15  21597 non-null  int64  \n",
      " 20  sqft_lot15     21597 non-null  int64  \n",
      "dtypes: float64(6), int64(9), object(6)\n",
      "memory usage: 3.5+ MB\n",
      "None\n"
     ]
    }
   ],
   "source": [
    "# Load CSV into a DataFrame\n",
    "df = pd.read_csv('data/kc_house_data.csv')\n",
    "\n",
    "# Show the info of the DataFrame\n",
    "print(df.info())"
   ]
  },
  {
   "cell_type": "code",
   "execution_count": 135,
   "metadata": {
    "scrolled": true
   },
   "outputs": [
    {
     "data": {
      "text/html": [
       "<div>\n",
       "<style scoped>\n",
       "    .dataframe tbody tr th:only-of-type {\n",
       "        vertical-align: middle;\n",
       "    }\n",
       "\n",
       "    .dataframe tbody tr th {\n",
       "        vertical-align: top;\n",
       "    }\n",
       "\n",
       "    .dataframe thead th {\n",
       "        text-align: right;\n",
       "    }\n",
       "</style>\n",
       "<table border=\"1\" class=\"dataframe\">\n",
       "  <thead>\n",
       "    <tr style=\"text-align: right;\">\n",
       "      <th></th>\n",
       "      <th>id</th>\n",
       "      <th>date</th>\n",
       "      <th>price</th>\n",
       "      <th>bedrooms</th>\n",
       "      <th>bathrooms</th>\n",
       "      <th>sqft_living</th>\n",
       "      <th>sqft_lot</th>\n",
       "      <th>floors</th>\n",
       "      <th>waterfront</th>\n",
       "      <th>view</th>\n",
       "      <th>...</th>\n",
       "      <th>grade</th>\n",
       "      <th>sqft_above</th>\n",
       "      <th>sqft_basement</th>\n",
       "      <th>yr_built</th>\n",
       "      <th>yr_renovated</th>\n",
       "      <th>zipcode</th>\n",
       "      <th>lat</th>\n",
       "      <th>long</th>\n",
       "      <th>sqft_living15</th>\n",
       "      <th>sqft_lot15</th>\n",
       "    </tr>\n",
       "  </thead>\n",
       "  <tbody>\n",
       "    <tr>\n",
       "      <th>3946</th>\n",
       "      <td>1825069031</td>\n",
       "      <td>8/14/2014</td>\n",
       "      <td>550000.0</td>\n",
       "      <td>4</td>\n",
       "      <td>1.75</td>\n",
       "      <td>2410</td>\n",
       "      <td>8447</td>\n",
       "      <td>2.0</td>\n",
       "      <td>NO</td>\n",
       "      <td>GOOD</td>\n",
       "      <td>...</td>\n",
       "      <td>8 Good</td>\n",
       "      <td>2060</td>\n",
       "      <td>350.0</td>\n",
       "      <td>1936</td>\n",
       "      <td>1980.0</td>\n",
       "      <td>98074</td>\n",
       "      <td>47.6499</td>\n",
       "      <td>-122.088</td>\n",
       "      <td>2520</td>\n",
       "      <td>14789</td>\n",
       "    </tr>\n",
       "    <tr>\n",
       "      <th>13428</th>\n",
       "      <td>2722059275</td>\n",
       "      <td>5/12/2015</td>\n",
       "      <td>536000.0</td>\n",
       "      <td>3</td>\n",
       "      <td>2.75</td>\n",
       "      <td>2290</td>\n",
       "      <td>34548</td>\n",
       "      <td>2.0</td>\n",
       "      <td>NO</td>\n",
       "      <td>GOOD</td>\n",
       "      <td>...</td>\n",
       "      <td>7 Average</td>\n",
       "      <td>2290</td>\n",
       "      <td>0.0</td>\n",
       "      <td>1984</td>\n",
       "      <td>0.0</td>\n",
       "      <td>98042</td>\n",
       "      <td>47.3691</td>\n",
       "      <td>-122.163</td>\n",
       "      <td>399</td>\n",
       "      <td>275299</td>\n",
       "    </tr>\n",
       "    <tr>\n",
       "      <th>6174</th>\n",
       "      <td>1266200130</td>\n",
       "      <td>6/15/2014</td>\n",
       "      <td>650000.0</td>\n",
       "      <td>3</td>\n",
       "      <td>1.75</td>\n",
       "      <td>2140</td>\n",
       "      <td>9484</td>\n",
       "      <td>1.0</td>\n",
       "      <td>NaN</td>\n",
       "      <td>NONE</td>\n",
       "      <td>...</td>\n",
       "      <td>7 Average</td>\n",
       "      <td>1290</td>\n",
       "      <td>850.0</td>\n",
       "      <td>1953</td>\n",
       "      <td>0.0</td>\n",
       "      <td>98004</td>\n",
       "      <td>47.6234</td>\n",
       "      <td>-122.191</td>\n",
       "      <td>1960</td>\n",
       "      <td>9630</td>\n",
       "    </tr>\n",
       "    <tr>\n",
       "      <th>14288</th>\n",
       "      <td>7303100210</td>\n",
       "      <td>5/27/2014</td>\n",
       "      <td>355000.0</td>\n",
       "      <td>4</td>\n",
       "      <td>2.25</td>\n",
       "      <td>1810</td>\n",
       "      <td>4970</td>\n",
       "      <td>2.0</td>\n",
       "      <td>NO</td>\n",
       "      <td>NONE</td>\n",
       "      <td>...</td>\n",
       "      <td>7 Average</td>\n",
       "      <td>1810</td>\n",
       "      <td>0.0</td>\n",
       "      <td>2003</td>\n",
       "      <td>NaN</td>\n",
       "      <td>98059</td>\n",
       "      <td>47.5003</td>\n",
       "      <td>-122.156</td>\n",
       "      <td>1810</td>\n",
       "      <td>4858</td>\n",
       "    </tr>\n",
       "    <tr>\n",
       "      <th>12794</th>\n",
       "      <td>9547204675</td>\n",
       "      <td>10/24/2014</td>\n",
       "      <td>538000.0</td>\n",
       "      <td>2</td>\n",
       "      <td>1.75</td>\n",
       "      <td>1850</td>\n",
       "      <td>3060</td>\n",
       "      <td>1.0</td>\n",
       "      <td>NO</td>\n",
       "      <td>NONE</td>\n",
       "      <td>...</td>\n",
       "      <td>7 Average</td>\n",
       "      <td>1060</td>\n",
       "      <td>790.0</td>\n",
       "      <td>1929</td>\n",
       "      <td>1992.0</td>\n",
       "      <td>98115</td>\n",
       "      <td>47.6821</td>\n",
       "      <td>-122.308</td>\n",
       "      <td>1850</td>\n",
       "      <td>4080</td>\n",
       "    </tr>\n",
       "  </tbody>\n",
       "</table>\n",
       "<p>5 rows × 21 columns</p>\n",
       "</div>"
      ],
      "text/plain": [
       "               id        date     price  bedrooms  bathrooms  sqft_living  \\\n",
       "3946   1825069031   8/14/2014  550000.0         4       1.75         2410   \n",
       "13428  2722059275   5/12/2015  536000.0         3       2.75         2290   \n",
       "6174   1266200130   6/15/2014  650000.0         3       1.75         2140   \n",
       "14288  7303100210   5/27/2014  355000.0         4       2.25         1810   \n",
       "12794  9547204675  10/24/2014  538000.0         2       1.75         1850   \n",
       "\n",
       "       sqft_lot  floors waterfront  view  ...      grade sqft_above  \\\n",
       "3946       8447     2.0         NO  GOOD  ...     8 Good       2060   \n",
       "13428     34548     2.0         NO  GOOD  ...  7 Average       2290   \n",
       "6174       9484     1.0        NaN  NONE  ...  7 Average       1290   \n",
       "14288      4970     2.0         NO  NONE  ...  7 Average       1810   \n",
       "12794      3060     1.0         NO  NONE  ...  7 Average       1060   \n",
       "\n",
       "       sqft_basement yr_built  yr_renovated  zipcode      lat     long  \\\n",
       "3946           350.0     1936        1980.0    98074  47.6499 -122.088   \n",
       "13428            0.0     1984           0.0    98042  47.3691 -122.163   \n",
       "6174           850.0     1953           0.0    98004  47.6234 -122.191   \n",
       "14288            0.0     2003           NaN    98059  47.5003 -122.156   \n",
       "12794          790.0     1929        1992.0    98115  47.6821 -122.308   \n",
       "\n",
       "       sqft_living15  sqft_lot15  \n",
       "3946            2520       14789  \n",
       "13428            399      275299  \n",
       "6174            1960        9630  \n",
       "14288           1810        4858  \n",
       "12794           1850        4080  \n",
       "\n",
       "[5 rows x 21 columns]"
      ]
     },
     "execution_count": 135,
     "metadata": {},
     "output_type": "execute_result"
    }
   ],
   "source": [
    "# checking a random sample of 5 rows from the DataFrame\n",
    "df.sample(5)"
   ]
  },
  {
   "cell_type": "code",
   "execution_count": 136,
   "metadata": {},
   "outputs": [],
   "source": [
    "# Removing non numeric variables from grade column\n",
    "df['grade'] = df['grade'].str.replace(r'\\D', '', regex=True)\n",
    "# convert into an integer\n",
    "df['grade'] = df['grade'].astype(int)"
   ]
  },
  {
   "cell_type": "markdown",
   "metadata": {},
   "source": [
    "### Checking if there are missing values in the dataframe"
   ]
  },
  {
   "cell_type": "code",
   "execution_count": 137,
   "metadata": {},
   "outputs": [
    {
     "name": "stdout",
     "output_type": "stream",
     "text": [
      "Number of missing values in each column:\n",
      "yr_renovated     3842\n",
      "waterfront       2376\n",
      "view               63\n",
      "sqft_lot15          0\n",
      "date                0\n",
      "price               0\n",
      "bedrooms            0\n",
      "bathrooms           0\n",
      "sqft_living         0\n",
      "sqft_lot            0\n",
      "floors              0\n",
      "condition           0\n",
      "sqft_living15       0\n",
      "grade               0\n",
      "sqft_above          0\n",
      "sqft_basement       0\n",
      "yr_built            0\n",
      "zipcode             0\n",
      "lat                 0\n",
      "long                0\n",
      "id                  0\n",
      "dtype: int64\n"
     ]
    }
   ],
   "source": [
    "# Counting the number of missing values in each column\n",
    "\n",
    "missing_values_count = df.isnull().sum().sort_values(ascending=False)\n",
    "print(\"Number of missing values in each column:\")\n",
    "print(missing_values_count)"
   ]
  },
  {
   "cell_type": "markdown",
   "metadata": {},
   "source": [
    "### Handling missing values"
   ]
  },
  {
   "cell_type": "code",
   "execution_count": 182,
   "metadata": {},
   "outputs": [
    {
     "data": {
      "text/html": [
       "<div>\n",
       "<style scoped>\n",
       "    .dataframe tbody tr th:only-of-type {\n",
       "        vertical-align: middle;\n",
       "    }\n",
       "\n",
       "    .dataframe tbody tr th {\n",
       "        vertical-align: top;\n",
       "    }\n",
       "\n",
       "    .dataframe thead th {\n",
       "        text-align: right;\n",
       "    }\n",
       "</style>\n",
       "<table border=\"1\" class=\"dataframe\">\n",
       "  <thead>\n",
       "    <tr style=\"text-align: right;\">\n",
       "      <th></th>\n",
       "      <th>id</th>\n",
       "      <th>date</th>\n",
       "      <th>price</th>\n",
       "      <th>bedrooms</th>\n",
       "      <th>bathrooms</th>\n",
       "      <th>sqft_living</th>\n",
       "      <th>sqft_lot</th>\n",
       "      <th>floors</th>\n",
       "      <th>waterfront</th>\n",
       "      <th>view</th>\n",
       "      <th>...</th>\n",
       "      <th>lat</th>\n",
       "      <th>long</th>\n",
       "      <th>sqft_living15</th>\n",
       "      <th>sqft_lot15</th>\n",
       "      <th>month</th>\n",
       "      <th>month_sold</th>\n",
       "      <th>season</th>\n",
       "      <th>year</th>\n",
       "      <th>age</th>\n",
       "      <th>renovated</th>\n",
       "    </tr>\n",
       "  </thead>\n",
       "  <tbody>\n",
       "    <tr>\n",
       "      <th>6065</th>\n",
       "      <td>6911700066</td>\n",
       "      <td>2014-06-04</td>\n",
       "      <td>175000.0</td>\n",
       "      <td>2.0</td>\n",
       "      <td>1.00</td>\n",
       "      <td>670</td>\n",
       "      <td>2378</td>\n",
       "      <td>1.0</td>\n",
       "      <td>0</td>\n",
       "      <td>0</td>\n",
       "      <td>...</td>\n",
       "      <td>47.5769</td>\n",
       "      <td>-122.372</td>\n",
       "      <td>700</td>\n",
       "      <td>2970</td>\n",
       "      <td>6</td>\n",
       "      <td>6</td>\n",
       "      <td>2.0</td>\n",
       "      <td>2014</td>\n",
       "      <td>95</td>\n",
       "      <td>0</td>\n",
       "    </tr>\n",
       "    <tr>\n",
       "      <th>13402</th>\n",
       "      <td>1432701510</td>\n",
       "      <td>2014-10-21</td>\n",
       "      <td>249000.0</td>\n",
       "      <td>4.0</td>\n",
       "      <td>2.00</td>\n",
       "      <td>1280</td>\n",
       "      <td>7560</td>\n",
       "      <td>1.0</td>\n",
       "      <td>0</td>\n",
       "      <td>0</td>\n",
       "      <td>...</td>\n",
       "      <td>47.4500</td>\n",
       "      <td>-122.175</td>\n",
       "      <td>1250</td>\n",
       "      <td>7690</td>\n",
       "      <td>10</td>\n",
       "      <td>10</td>\n",
       "      <td>NaN</td>\n",
       "      <td>2014</td>\n",
       "      <td>55</td>\n",
       "      <td>0</td>\n",
       "    </tr>\n",
       "    <tr>\n",
       "      <th>10933</th>\n",
       "      <td>6450304260</td>\n",
       "      <td>2014-07-22</td>\n",
       "      <td>294000.0</td>\n",
       "      <td>2.0</td>\n",
       "      <td>1.00</td>\n",
       "      <td>850</td>\n",
       "      <td>5250</td>\n",
       "      <td>1.0</td>\n",
       "      <td>0</td>\n",
       "      <td>0</td>\n",
       "      <td>...</td>\n",
       "      <td>47.7310</td>\n",
       "      <td>-122.342</td>\n",
       "      <td>1440</td>\n",
       "      <td>5250</td>\n",
       "      <td>7</td>\n",
       "      <td>7</td>\n",
       "      <td>2.0</td>\n",
       "      <td>2014</td>\n",
       "      <td>64</td>\n",
       "      <td>0</td>\n",
       "    </tr>\n",
       "    <tr>\n",
       "      <th>2633</th>\n",
       "      <td>6791400320</td>\n",
       "      <td>2014-09-23</td>\n",
       "      <td>257500.0</td>\n",
       "      <td>3.0</td>\n",
       "      <td>1.75</td>\n",
       "      <td>1530</td>\n",
       "      <td>14087</td>\n",
       "      <td>1.0</td>\n",
       "      <td>0</td>\n",
       "      <td>0</td>\n",
       "      <td>...</td>\n",
       "      <td>47.3146</td>\n",
       "      <td>-122.043</td>\n",
       "      <td>1770</td>\n",
       "      <td>13660</td>\n",
       "      <td>9</td>\n",
       "      <td>9</td>\n",
       "      <td>NaN</td>\n",
       "      <td>2014</td>\n",
       "      <td>35</td>\n",
       "      <td>0</td>\n",
       "    </tr>\n",
       "    <tr>\n",
       "      <th>3646</th>\n",
       "      <td>7523900300</td>\n",
       "      <td>2015-04-07</td>\n",
       "      <td>370000.0</td>\n",
       "      <td>4.0</td>\n",
       "      <td>2.75</td>\n",
       "      <td>2310</td>\n",
       "      <td>14745</td>\n",
       "      <td>1.0</td>\n",
       "      <td>0</td>\n",
       "      <td>0</td>\n",
       "      <td>...</td>\n",
       "      <td>47.3770</td>\n",
       "      <td>-122.310</td>\n",
       "      <td>2060</td>\n",
       "      <td>9678</td>\n",
       "      <td>4</td>\n",
       "      <td>4</td>\n",
       "      <td>1.0</td>\n",
       "      <td>2015</td>\n",
       "      <td>22</td>\n",
       "      <td>0</td>\n",
       "    </tr>\n",
       "  </tbody>\n",
       "</table>\n",
       "<p>5 rows × 27 columns</p>\n",
       "</div>"
      ],
      "text/plain": [
       "               id       date     price  bedrooms  bathrooms  sqft_living  \\\n",
       "6065   6911700066 2014-06-04  175000.0       2.0       1.00          670   \n",
       "13402  1432701510 2014-10-21  249000.0       4.0       2.00         1280   \n",
       "10933  6450304260 2014-07-22  294000.0       2.0       1.00          850   \n",
       "2633   6791400320 2014-09-23  257500.0       3.0       1.75         1530   \n",
       "3646   7523900300 2015-04-07  370000.0       4.0       2.75         2310   \n",
       "\n",
       "       sqft_lot  floors  waterfront  view  ...      lat     long  \\\n",
       "6065       2378     1.0           0     0  ...  47.5769 -122.372   \n",
       "13402      7560     1.0           0     0  ...  47.4500 -122.175   \n",
       "10933      5250     1.0           0     0  ...  47.7310 -122.342   \n",
       "2633      14087     1.0           0     0  ...  47.3146 -122.043   \n",
       "3646      14745     1.0           0     0  ...  47.3770 -122.310   \n",
       "\n",
       "       sqft_living15  sqft_lot15  month  month_sold  season  year  age  \\\n",
       "6065             700        2970      6           6     2.0  2014   95   \n",
       "13402           1250        7690     10          10     NaN  2014   55   \n",
       "10933           1440        5250      7           7     2.0  2014   64   \n",
       "2633            1770       13660      9           9     NaN  2014   35   \n",
       "3646            2060        9678      4           4     1.0  2015   22   \n",
       "\n",
       "       renovated  \n",
       "6065           0  \n",
       "13402          0  \n",
       "10933          0  \n",
       "2633           0  \n",
       "3646           0  \n",
       "\n",
       "[5 rows x 27 columns]"
      ]
     },
     "execution_count": 182,
     "metadata": {},
     "output_type": "execute_result"
    }
   ],
   "source": [
    "#Replace NaN in view to NONE\n",
    "\n",
    "df['view'] = df['view'].fillna('NONE')\n",
    "\n",
    "# replace NaN in waterfront to NO\n",
    "df['waterfront'] = df['waterfront'].fillna('NO')\n",
    "\n",
    "# replace NaN in yr_renovated to 0\n",
    "df['yr_renovated'] = df['yr_renovated'].fillna(0)\n",
    "\n",
    "# Display the modified DataFrame to check for indicator columns\n",
    "df.sample(5)"
   ]
  },
  {
   "cell_type": "code",
   "execution_count": 139,
   "metadata": {},
   "outputs": [],
   "source": [
    "# Changing waterfron values to numerics\n",
    "waterfront_mapping = {\n",
    "    'NO': 0,\n",
    "    'YES': 1\n",
    "}\n",
    "\n",
    "df['waterfront'] = df['waterfront'].map(waterfront_mapping)"
   ]
  },
  {
   "cell_type": "code",
   "execution_count": 140,
   "metadata": {},
   "outputs": [],
   "source": [
    "# Changing condition values to numerics\n",
    "df['condition'] = df['condition'].str.replace(' ', '_')\n",
    "condition_mapping = {\n",
    "    'Average': 2,\n",
    "    'Very_Good': 4,\n",
    "    'Good': 3,\n",
    "    'Poor': 1,\n",
    "    'Fair': 0\n",
    "}\n",
    "\n",
    "df['condition'] = df['condition'].map(condition_mapping)"
   ]
  },
  {
   "cell_type": "code",
   "execution_count": 141,
   "metadata": {},
   "outputs": [],
   "source": [
    "# changing 'view' values to numerics\n",
    "view_mapping = {\n",
    "    'NONE': 0,\n",
    "    'GOOD': 1,\n",
    "    'EXCELLENT': 2,\n",
    "    'AVERAGE': 3,\n",
    "    'FAIR': 4\n",
    "}\n",
    "\n",
    "df['view'] = df['view'].map(view_mapping)"
   ]
  },
  {
   "cell_type": "code",
   "execution_count": 142,
   "metadata": {},
   "outputs": [
    {
     "name": "stdout",
     "output_type": "stream",
     "text": [
      "0\n"
     ]
    }
   ],
   "source": [
    "# Checking for presence of duplicate rows\n",
    "\n",
    "duplicate_rows = df.duplicated().any().sum()\n",
    "print(duplicate_rows)"
   ]
  },
  {
   "cell_type": "markdown",
   "metadata": {},
   "source": [
    "### Changing the sqft_basement column to datatype 'float'"
   ]
  },
  {
   "cell_type": "code",
   "execution_count": 143,
   "metadata": {},
   "outputs": [
    {
     "data": {
      "text/plain": [
       "dtype('float64')"
      ]
     },
     "execution_count": 143,
     "metadata": {},
     "output_type": "execute_result"
    }
   ],
   "source": [
    "# Changing the sqft_basement column to datatype 'float'\n",
    "\n",
    "# Replace '?' with np.NaN\n",
    "df['sqft_basement'].replace('?', np.NaN, inplace=True)\n",
    "\n",
    "# Fill null values and convert to float\n",
    "df['sqft_basement'] = df['sqft_basement'].fillna(0).astype(float)\n",
    "\n",
    "# Check whether the datatype is now a float\n",
    "df['sqft_basement'].dtype"
   ]
  },
  {
   "cell_type": "markdown",
   "metadata": {},
   "source": [
    "## EXPLORATORY DATA ANALYSIS"
   ]
  },
  {
   "cell_type": "code",
   "execution_count": 144,
   "metadata": {},
   "outputs": [
    {
     "data": {
      "text/html": [
       "<div>\n",
       "<style scoped>\n",
       "    .dataframe tbody tr th:only-of-type {\n",
       "        vertical-align: middle;\n",
       "    }\n",
       "\n",
       "    .dataframe tbody tr th {\n",
       "        vertical-align: top;\n",
       "    }\n",
       "\n",
       "    .dataframe thead th {\n",
       "        text-align: right;\n",
       "    }\n",
       "</style>\n",
       "<table border=\"1\" class=\"dataframe\">\n",
       "  <thead>\n",
       "    <tr style=\"text-align: right;\">\n",
       "      <th></th>\n",
       "      <th>id</th>\n",
       "      <th>price</th>\n",
       "      <th>bedrooms</th>\n",
       "      <th>bathrooms</th>\n",
       "      <th>sqft_living</th>\n",
       "      <th>sqft_lot</th>\n",
       "      <th>floors</th>\n",
       "      <th>waterfront</th>\n",
       "      <th>view</th>\n",
       "      <th>condition</th>\n",
       "      <th>grade</th>\n",
       "      <th>sqft_above</th>\n",
       "      <th>sqft_basement</th>\n",
       "      <th>yr_built</th>\n",
       "      <th>yr_renovated</th>\n",
       "      <th>zipcode</th>\n",
       "      <th>lat</th>\n",
       "      <th>long</th>\n",
       "      <th>sqft_living15</th>\n",
       "      <th>sqft_lot15</th>\n",
       "    </tr>\n",
       "  </thead>\n",
       "  <tbody>\n",
       "    <tr>\n",
       "      <th>count</th>\n",
       "      <td>2.159700e+04</td>\n",
       "      <td>2.159700e+04</td>\n",
       "      <td>21597.000000</td>\n",
       "      <td>21597.000000</td>\n",
       "      <td>21597.000000</td>\n",
       "      <td>2.159700e+04</td>\n",
       "      <td>21597.000000</td>\n",
       "      <td>21597.000000</td>\n",
       "      <td>21597.000000</td>\n",
       "      <td>21597.000000</td>\n",
       "      <td>21597.000000</td>\n",
       "      <td>21597.000000</td>\n",
       "      <td>21597.000000</td>\n",
       "      <td>21597.000000</td>\n",
       "      <td>21597.000000</td>\n",
       "      <td>21597.000000</td>\n",
       "      <td>21597.000000</td>\n",
       "      <td>21597.000000</td>\n",
       "      <td>21597.000000</td>\n",
       "      <td>21597.000000</td>\n",
       "    </tr>\n",
       "    <tr>\n",
       "      <th>mean</th>\n",
       "      <td>4.580474e+09</td>\n",
       "      <td>5.402966e+05</td>\n",
       "      <td>3.373200</td>\n",
       "      <td>2.115826</td>\n",
       "      <td>2080.321850</td>\n",
       "      <td>1.509941e+04</td>\n",
       "      <td>1.494096</td>\n",
       "      <td>0.006760</td>\n",
       "      <td>0.246932</td>\n",
       "      <td>2.403297</td>\n",
       "      <td>7.657915</td>\n",
       "      <td>1788.596842</td>\n",
       "      <td>285.716581</td>\n",
       "      <td>1970.999676</td>\n",
       "      <td>68.758207</td>\n",
       "      <td>98077.951845</td>\n",
       "      <td>47.560093</td>\n",
       "      <td>-122.213982</td>\n",
       "      <td>1986.620318</td>\n",
       "      <td>12758.283512</td>\n",
       "    </tr>\n",
       "    <tr>\n",
       "      <th>std</th>\n",
       "      <td>2.876736e+09</td>\n",
       "      <td>3.673681e+05</td>\n",
       "      <td>0.926299</td>\n",
       "      <td>0.768984</td>\n",
       "      <td>918.106125</td>\n",
       "      <td>4.141264e+04</td>\n",
       "      <td>0.539683</td>\n",
       "      <td>0.081944</td>\n",
       "      <td>0.815213</td>\n",
       "      <td>0.669407</td>\n",
       "      <td>1.173200</td>\n",
       "      <td>827.759761</td>\n",
       "      <td>439.819830</td>\n",
       "      <td>29.375234</td>\n",
       "      <td>364.037499</td>\n",
       "      <td>53.513072</td>\n",
       "      <td>0.138552</td>\n",
       "      <td>0.140724</td>\n",
       "      <td>685.230472</td>\n",
       "      <td>27274.441950</td>\n",
       "    </tr>\n",
       "    <tr>\n",
       "      <th>min</th>\n",
       "      <td>1.000102e+06</td>\n",
       "      <td>7.800000e+04</td>\n",
       "      <td>1.000000</td>\n",
       "      <td>0.500000</td>\n",
       "      <td>370.000000</td>\n",
       "      <td>5.200000e+02</td>\n",
       "      <td>1.000000</td>\n",
       "      <td>0.000000</td>\n",
       "      <td>0.000000</td>\n",
       "      <td>0.000000</td>\n",
       "      <td>3.000000</td>\n",
       "      <td>370.000000</td>\n",
       "      <td>0.000000</td>\n",
       "      <td>1900.000000</td>\n",
       "      <td>0.000000</td>\n",
       "      <td>98001.000000</td>\n",
       "      <td>47.155900</td>\n",
       "      <td>-122.519000</td>\n",
       "      <td>399.000000</td>\n",
       "      <td>651.000000</td>\n",
       "    </tr>\n",
       "    <tr>\n",
       "      <th>25%</th>\n",
       "      <td>2.123049e+09</td>\n",
       "      <td>3.220000e+05</td>\n",
       "      <td>3.000000</td>\n",
       "      <td>1.750000</td>\n",
       "      <td>1430.000000</td>\n",
       "      <td>5.040000e+03</td>\n",
       "      <td>1.000000</td>\n",
       "      <td>0.000000</td>\n",
       "      <td>0.000000</td>\n",
       "      <td>2.000000</td>\n",
       "      <td>7.000000</td>\n",
       "      <td>1190.000000</td>\n",
       "      <td>0.000000</td>\n",
       "      <td>1951.000000</td>\n",
       "      <td>0.000000</td>\n",
       "      <td>98033.000000</td>\n",
       "      <td>47.471100</td>\n",
       "      <td>-122.328000</td>\n",
       "      <td>1490.000000</td>\n",
       "      <td>5100.000000</td>\n",
       "    </tr>\n",
       "    <tr>\n",
       "      <th>50%</th>\n",
       "      <td>3.904930e+09</td>\n",
       "      <td>4.500000e+05</td>\n",
       "      <td>3.000000</td>\n",
       "      <td>2.250000</td>\n",
       "      <td>1910.000000</td>\n",
       "      <td>7.618000e+03</td>\n",
       "      <td>1.500000</td>\n",
       "      <td>0.000000</td>\n",
       "      <td>0.000000</td>\n",
       "      <td>2.000000</td>\n",
       "      <td>7.000000</td>\n",
       "      <td>1560.000000</td>\n",
       "      <td>0.000000</td>\n",
       "      <td>1975.000000</td>\n",
       "      <td>0.000000</td>\n",
       "      <td>98065.000000</td>\n",
       "      <td>47.571800</td>\n",
       "      <td>-122.231000</td>\n",
       "      <td>1840.000000</td>\n",
       "      <td>7620.000000</td>\n",
       "    </tr>\n",
       "    <tr>\n",
       "      <th>75%</th>\n",
       "      <td>7.308900e+09</td>\n",
       "      <td>6.450000e+05</td>\n",
       "      <td>4.000000</td>\n",
       "      <td>2.500000</td>\n",
       "      <td>2550.000000</td>\n",
       "      <td>1.068500e+04</td>\n",
       "      <td>2.000000</td>\n",
       "      <td>0.000000</td>\n",
       "      <td>0.000000</td>\n",
       "      <td>3.000000</td>\n",
       "      <td>8.000000</td>\n",
       "      <td>2210.000000</td>\n",
       "      <td>550.000000</td>\n",
       "      <td>1997.000000</td>\n",
       "      <td>0.000000</td>\n",
       "      <td>98118.000000</td>\n",
       "      <td>47.678000</td>\n",
       "      <td>-122.125000</td>\n",
       "      <td>2360.000000</td>\n",
       "      <td>10083.000000</td>\n",
       "    </tr>\n",
       "    <tr>\n",
       "      <th>max</th>\n",
       "      <td>9.900000e+09</td>\n",
       "      <td>7.700000e+06</td>\n",
       "      <td>33.000000</td>\n",
       "      <td>8.000000</td>\n",
       "      <td>13540.000000</td>\n",
       "      <td>1.651359e+06</td>\n",
       "      <td>3.500000</td>\n",
       "      <td>1.000000</td>\n",
       "      <td>4.000000</td>\n",
       "      <td>4.000000</td>\n",
       "      <td>13.000000</td>\n",
       "      <td>9410.000000</td>\n",
       "      <td>4820.000000</td>\n",
       "      <td>2015.000000</td>\n",
       "      <td>2015.000000</td>\n",
       "      <td>98199.000000</td>\n",
       "      <td>47.777600</td>\n",
       "      <td>-121.315000</td>\n",
       "      <td>6210.000000</td>\n",
       "      <td>871200.000000</td>\n",
       "    </tr>\n",
       "  </tbody>\n",
       "</table>\n",
       "</div>"
      ],
      "text/plain": [
       "                 id         price      bedrooms     bathrooms   sqft_living  \\\n",
       "count  2.159700e+04  2.159700e+04  21597.000000  21597.000000  21597.000000   \n",
       "mean   4.580474e+09  5.402966e+05      3.373200      2.115826   2080.321850   \n",
       "std    2.876736e+09  3.673681e+05      0.926299      0.768984    918.106125   \n",
       "min    1.000102e+06  7.800000e+04      1.000000      0.500000    370.000000   \n",
       "25%    2.123049e+09  3.220000e+05      3.000000      1.750000   1430.000000   \n",
       "50%    3.904930e+09  4.500000e+05      3.000000      2.250000   1910.000000   \n",
       "75%    7.308900e+09  6.450000e+05      4.000000      2.500000   2550.000000   \n",
       "max    9.900000e+09  7.700000e+06     33.000000      8.000000  13540.000000   \n",
       "\n",
       "           sqft_lot        floors    waterfront          view     condition  \\\n",
       "count  2.159700e+04  21597.000000  21597.000000  21597.000000  21597.000000   \n",
       "mean   1.509941e+04      1.494096      0.006760      0.246932      2.403297   \n",
       "std    4.141264e+04      0.539683      0.081944      0.815213      0.669407   \n",
       "min    5.200000e+02      1.000000      0.000000      0.000000      0.000000   \n",
       "25%    5.040000e+03      1.000000      0.000000      0.000000      2.000000   \n",
       "50%    7.618000e+03      1.500000      0.000000      0.000000      2.000000   \n",
       "75%    1.068500e+04      2.000000      0.000000      0.000000      3.000000   \n",
       "max    1.651359e+06      3.500000      1.000000      4.000000      4.000000   \n",
       "\n",
       "              grade    sqft_above  sqft_basement      yr_built  yr_renovated  \\\n",
       "count  21597.000000  21597.000000   21597.000000  21597.000000  21597.000000   \n",
       "mean       7.657915   1788.596842     285.716581   1970.999676     68.758207   \n",
       "std        1.173200    827.759761     439.819830     29.375234    364.037499   \n",
       "min        3.000000    370.000000       0.000000   1900.000000      0.000000   \n",
       "25%        7.000000   1190.000000       0.000000   1951.000000      0.000000   \n",
       "50%        7.000000   1560.000000       0.000000   1975.000000      0.000000   \n",
       "75%        8.000000   2210.000000     550.000000   1997.000000      0.000000   \n",
       "max       13.000000   9410.000000    4820.000000   2015.000000   2015.000000   \n",
       "\n",
       "            zipcode           lat          long  sqft_living15     sqft_lot15  \n",
       "count  21597.000000  21597.000000  21597.000000   21597.000000   21597.000000  \n",
       "mean   98077.951845     47.560093   -122.213982    1986.620318   12758.283512  \n",
       "std       53.513072      0.138552      0.140724     685.230472   27274.441950  \n",
       "min    98001.000000     47.155900   -122.519000     399.000000     651.000000  \n",
       "25%    98033.000000     47.471100   -122.328000    1490.000000    5100.000000  \n",
       "50%    98065.000000     47.571800   -122.231000    1840.000000    7620.000000  \n",
       "75%    98118.000000     47.678000   -122.125000    2360.000000   10083.000000  \n",
       "max    98199.000000     47.777600   -121.315000    6210.000000  871200.000000  "
      ]
     },
     "execution_count": 144,
     "metadata": {},
     "output_type": "execute_result"
    }
   ],
   "source": [
    "# Checking statistical details for numerical columns.\n",
    "df.describe()"
   ]
  },
  {
   "cell_type": "markdown",
   "metadata": {},
   "source": [
    "### checking for outliers"
   ]
  },
  {
   "cell_type": "code",
   "execution_count": 145,
   "metadata": {},
   "outputs": [
    {
     "data": {
      "text/plain": [
       "3     9824\n",
       "4     6882\n",
       "2     2760\n",
       "5     1601\n",
       "6      272\n",
       "1      196\n",
       "7       38\n",
       "8       13\n",
       "9        6\n",
       "10       3\n",
       "11       1\n",
       "33       1\n",
       "Name: bedrooms, dtype: int64"
      ]
     },
     "execution_count": 145,
     "metadata": {},
     "output_type": "execute_result"
    }
   ],
   "source": [
    "df['bedrooms'].value_counts()"
   ]
  },
  {
   "cell_type": "code",
   "execution_count": 146,
   "metadata": {},
   "outputs": [],
   "source": [
    " #if any entry has over 20 bedrooms, replace it with the median.\n",
    "df.loc[df.bedrooms > 20, 'bedrooms'] = df.bedrooms.median()"
   ]
  },
  {
   "cell_type": "markdown",
   "metadata": {},
   "source": [
    "## CREATING FEATURES\n"
   ]
  },
  {
   "cell_type": "markdown",
   "metadata": {},
   "source": [
    "### FEATURE 1 ; Seasons"
   ]
  },
  {
   "cell_type": "code",
   "execution_count": 147,
   "metadata": {},
   "outputs": [],
   "source": [
    "# extract months from the date column\n",
    "df= df.copy()\n",
    "df['date'] = pd.to_datetime(df['date'])\n",
    "\n",
    "\n",
    "df['month'] = df['date'].dt.month\n",
    "\n",
    "# assign numerals to month names\n",
    "month_name = {1: 'January',2: 'February', 3: 'March',4: 'April',5: 'May',6: 'June',7: 'July',8: 'August',9:\n",
    "\n",
    "'September',10: 'October',11: 'November',12: 'December'}\n",
    "\n",
    "# Extract the month and create a new column 'month_sold'\n",
    "df['month_sold'] = df['month'].map(month_name)"
   ]
  },
  {
   "cell_type": "code",
   "execution_count": 148,
   "metadata": {},
   "outputs": [],
   "source": [
    "# define seasons\n",
    "seasons = { 'Spring': ['March', 'April', 'May'],\n",
    "    'Summer': ['June', 'July', 'August'],\n",
    "    'Autumn': ['September', 'October', 'November'],\n",
    "    'Winter': ['December', 'January', 'February']}\n",
    "\n",
    "#write a function to assign months to seasons.\n",
    "\n",
    "def assigned_season(month):\n",
    "    for season, months in seasons.items():\n",
    "        if month in months:\n",
    "            return season\n",
    "\n",
    "# create a seasons column\n",
    "df['season'] = df['month_sold'].apply(assigned_season)\n"
   ]
  },
  {
   "cell_type": "code",
   "execution_count": 149,
   "metadata": {},
   "outputs": [
    {
     "data": {
      "text/html": [
       "<div>\n",
       "<style scoped>\n",
       "    .dataframe tbody tr th:only-of-type {\n",
       "        vertical-align: middle;\n",
       "    }\n",
       "\n",
       "    .dataframe tbody tr th {\n",
       "        vertical-align: top;\n",
       "    }\n",
       "\n",
       "    .dataframe thead tr th {\n",
       "        text-align: left;\n",
       "    }\n",
       "</style>\n",
       "<table border=\"1\" class=\"dataframe\">\n",
       "  <thead>\n",
       "    <tr>\n",
       "      <th></th>\n",
       "      <th>season</th>\n",
       "      <th colspan=\"3\" halign=\"left\">price</th>\n",
       "    </tr>\n",
       "    <tr>\n",
       "      <th></th>\n",
       "      <th></th>\n",
       "      <th>sum</th>\n",
       "      <th>mean</th>\n",
       "      <th>median</th>\n",
       "    </tr>\n",
       "  </thead>\n",
       "  <tbody>\n",
       "    <tr>\n",
       "      <th>1</th>\n",
       "      <td>Spring</td>\n",
       "      <td>3.603038e+09</td>\n",
       "      <td>552782.763271</td>\n",
       "      <td>465000.0</td>\n",
       "    </tr>\n",
       "    <tr>\n",
       "      <th>2</th>\n",
       "      <td>Summer</td>\n",
       "      <td>3.459641e+09</td>\n",
       "      <td>546719.464286</td>\n",
       "      <td>455000.0</td>\n",
       "    </tr>\n",
       "    <tr>\n",
       "      <th>0</th>\n",
       "      <td>Autumn</td>\n",
       "      <td>2.686134e+09</td>\n",
       "      <td>531276.474881</td>\n",
       "      <td>443725.0</td>\n",
       "    </tr>\n",
       "    <tr>\n",
       "      <th>3</th>\n",
       "      <td>Winter</td>\n",
       "      <td>1.919972e+09</td>\n",
       "      <td>519613.645467</td>\n",
       "      <td>430000.0</td>\n",
       "    </tr>\n",
       "  </tbody>\n",
       "</table>\n",
       "</div>"
      ],
      "text/plain": [
       "   season         price                         \n",
       "                    sum           mean    median\n",
       "1  Spring  3.603038e+09  552782.763271  465000.0\n",
       "2  Summer  3.459641e+09  546719.464286  455000.0\n",
       "0  Autumn  2.686134e+09  531276.474881  443725.0\n",
       "3  Winter  1.919972e+09  519613.645467  430000.0"
      ]
     },
     "execution_count": 149,
     "metadata": {},
     "output_type": "execute_result"
    }
   ],
   "source": [
    "# find avg , sum and median for sales.\n",
    "\n",
    "seasonal_data = df.groupby('season').agg({\n",
    "    'price': ['sum' , 'mean', 'median']\n",
    "}).reset_index()\n",
    "seasonal_data = seasonal_data.sort_values(by=('price', 'sum'), ascending=False)\n",
    "seasonal_data"
   ]
  },
  {
   "cell_type": "markdown",
   "metadata": {},
   "source": [
    "### BUSINESS PROBLEM 1 INSIGHTS.\n",
    "\n",
    "**Sum of Price**:  total sum of property prices for each season.\n",
    "\n",
    "**Mean Price** :  average (mean) of property price for each season.\n",
    "\n",
    "**Median Price**:  represents the middle value when all property prices are sorted in ascending order.\n",
    "\n",
    "**Spring**: Total property sales in the spring season were approximately $3.60 billion. The average home price was around 552,782.76, with a median price of 465,000. While there were higher-priced properties, the average property had a median price of 465,000.0 during the spring season.\n",
    "\n",
    "**Summer**: Total property sales in the summer season were approximately $3.46 billion. The average property price was approximately 546,719.46, with a median price of 455,000.0. This indicates that, on average, properties were slightly less expensive than during the spring season.\n",
    "\n",
    "**Autumn**: Total property sales in the autumn season were approximately 2.69 billion. The median price was 443,725, and the mean price was approximately 531,276.47. This implies that property prices were relatively high  during the autumn season.\n",
    "\n",
    "**Winter**: Total property sales in the winter season were approximately 1.92 billion. The median price was 430,000, and the mean price was around 519,613.65. This means that property prices were lower during the winter season compared to the other seasons.\n",
    "\n",
    "\n",
    "These results provide insights into how property sales and prices vary across the seasons. For example, it appears that properties tend to be more expensive during the spring and summer seasons. This seasons also have the highest number of sales. \n",
    "\n",
    "The prices and sales are somewhat lower during the autum and winter seasons.\n",
    "\n",
    "The stake holders  might consider adjusting their marketing and pricing strategies based on these seasonal patterns. For instance, running marketing campaigns during Spring and Summer so as to take advantage of the high property prices and sales. "
   ]
  },
  {
   "cell_type": "code",
   "execution_count": 150,
   "metadata": {},
   "outputs": [
    {
     "data": {
      "image/png": "[encoded data removed]",
      "text/plain": [
       "<Figure size 720x360 with 1 Axes>"
      ]
     },
     "metadata": {
      "needs_background": "light"
     },
     "output_type": "display_data"
    }
   ],
   "source": [
    "# Graphical representation of average sales per season.\n",
    "\n",
    "#find average sales per season\n",
    "avg_price = df.groupby('season')['price'].mean()\n",
    "\n",
    "#set figure size\n",
    "plt.figure(figsize=(10, 5))\n",
    "\n",
    "#plot figure\n",
    "plt.plot(avg_price.index, avg_price.values, color='purple', marker='o')\n",
    "\n",
    "# Set labels and title \n",
    "plt.xlabel('Season')\n",
    "plt.ylabel('Average Price')\n",
    "plt.title('Average Selling Price Vs Season')\n",
    "\n",
    "# Set x-axis limits, ticks, and labels\n",
    "plt.xlim(1, 4)\n",
    "plt.xticks((1, 2, 3, 4), ['Spring', 'Summer', 'Autumn', 'Winter'])\n",
    "\n",
    "# Display the plot\n",
    "plt.show()"
   ]
  },
  {
   "cell_type": "markdown",
   "metadata": {},
   "source": [
    "## BUSINESS PROBLEM 2.\n",
    "\n",
    "    Analyse how property features affect property prices. The ideal features discovered through the feature selection analysis will be used in making price predictions"
   ]
  },
  {
   "cell_type": "markdown",
   "metadata": {},
   "source": [
    "### FEATURE 2 ; Age"
   ]
  },
  {
   "cell_type": "code",
   "execution_count": 151,
   "metadata": {},
   "outputs": [],
   "source": [
    "# Creating variable called age\n",
    "df['date'] = pd.to_datetime(df['date'], format='%m/%d/%Y')\n",
    "\n",
    "# Extract the year and create a new 'year' column\n",
    "df['year'] = df['date'].dt.year\n"
   ]
  },
  {
   "cell_type": "code",
   "execution_count": 152,
   "metadata": {},
   "outputs": [],
   "source": [
    "# Calculate property age by subracting the year the property was built from the year the property was sold\n",
    "df['age'] = df['year'] - df['yr_built']"
   ]
  },
  {
   "cell_type": "markdown",
   "metadata": {},
   "source": [
    "### FEATURE 3 ; RENOVATION\n",
    "    "
   ]
  },
  {
   "cell_type": "code",
   "execution_count": 153,
   "metadata": {},
   "outputs": [],
   "source": [
    "# Creating a dummy variable called year_renovated\n",
    "df['renovated'] = df['yr_renovated'].apply(lambda x:  1 if x > 0 else 0)"
   ]
  },
  {
   "cell_type": "markdown",
   "metadata": {},
   "source": [
    "## MODELLING"
   ]
  },
  {
   "cell_type": "code",
   "execution_count": 154,
   "metadata": {},
   "outputs": [],
   "source": [
    "from sklearn.metrics import mean_squared_error\n",
    "from sklearn.model_selection import train_test_split\n",
    "from sklearn.dummy import DummyRegressor\n",
    "from sklearn.linear_model import LinearRegression"
   ]
  },
  {
   "cell_type": "code",
   "execution_count": 155,
   "metadata": {},
   "outputs": [],
   "source": [
    "# Change months to numerics\n",
    "month_mapping = {\n",
    "    'January': 1, 'February': 2, 'March': 3, 'April': 4,\n",
    "    'May': 5, 'June': 6, 'July': 7, 'August': 8,\n",
    "    'September': 9, 'October': 10, 'November': 11, 'December': 12\n",
    "}\n",
    "\n",
    "df['month_sold'] = df['month_sold'].map(month_mapping)"
   ]
  },
  {
   "cell_type": "code",
   "execution_count": 156,
   "metadata": {},
   "outputs": [],
   "source": [
    "# Change seasons to numerics\n",
    "season_mapping = {\n",
    "    'Spring': 1, 'Summer': 2, 'Fall': 3, 'Winter': 4\n",
    "}\n",
    "\n",
    "df['season'] = df['season'].map(season_mapping)"
   ]
  },
  {
   "cell_type": "markdown",
   "metadata": {},
   "source": [
    "### FEATURE SELECTION"
   ]
  },
  {
   "cell_type": "markdown",
   "metadata": {},
   "source": [
    "In this real estate data set, feature selection aids in simplifying the model, making it easier to interpret and reduce the risk of overfitting by eliminating irrelevant or redundant features. In this real estate context, where various features like the number of bedrooms, bathrooms, square footage, and location can influence house prices, not all variables may have a significant impact on the target outcome. Some features may be highly correlated with each other, leading to multicollinearity, which can distort the model's performance and interpretation. Feature selection can enhance the model's generalization capability and improve its performance metrics, thereby providing more reliable and actionable insights. Given the high-stakes nature of real-estate investment and decision-making, an accurate and streamlined predictive model achieved through meticulous feature selection is vital. "
   ]
  },
  {
   "cell_type": "code",
   "execution_count": 157,
   "metadata": {},
   "outputs": [],
   "source": [
    "# Defining the features and the target variable\n",
    "X = df.drop(['price', 'date'], axis=1)\n",
    "y = df['price']\n",
    "\n",
    "# Splitting the data into training and test sets so as to evaluate the model's performance later\n",
    "X_train, X_test, y_train, y_test = train_test_split(X, y, test_size=0.2, random_state=42)"
   ]
  },
  {
   "cell_type": "code",
   "execution_count": 158,
   "metadata": {},
   "outputs": [
    {
     "name": "stdout",
     "output_type": "stream",
     "text": [
      "Correlation of Numerical Features (excluding 'date' and 'id') with Price:\n",
      "price            1.000000\n",
      "sqft_living      0.701917\n",
      "grade            0.667951\n",
      "sqft_above       0.605368\n",
      "sqft_living15    0.585241\n",
      "bathrooms        0.525906\n",
      "sqft_basement    0.321108\n",
      "bedrooms         0.315954\n",
      "lat              0.306692\n",
      "view             0.290620\n",
      "waterfront       0.264306\n",
      "floors           0.256804\n",
      "yr_renovated     0.117855\n",
      "renovated        0.117543\n",
      "sqft_lot         0.089876\n",
      "sqft_lot15       0.082845\n",
      "yr_built         0.053953\n",
      "condition        0.040742\n",
      "long             0.022036\n",
      "year             0.003727\n",
      "month           -0.009928\n",
      "month_sold      -0.009928\n",
      "season          -0.034688\n",
      "zipcode         -0.053402\n",
      "age             -0.053890\n",
      "Name: price, dtype: float64\n"
     ]
    }
   ],
   "source": [
    "# using correlation tests to measure how strongly each feature and price are related\n",
    "# Exclude non-numeric features like 'date' and 'id'\n",
    "filtered_df = df.select_dtypes(include=[np.number]).drop(columns=['id'])\n",
    "\n",
    "# Calculate the correlation matrix for the filtered DataFrame\n",
    "correlation_matrix = filtered_df.corr()\n",
    "\n",
    "# Isolate the 'price' column to find its correlation with other numeric features\n",
    "correlation_with_price = correlation_matrix['price'].sort_values(ascending=False)\n",
    "\n",
    "print(\"Correlation of Numerical Features (excluding 'date' and 'id') with Price:\")\n",
    "print(correlation_with_price)"
   ]
  },
  {
   "cell_type": "code",
   "execution_count": 159,
   "metadata": {},
   "outputs": [
    {
     "data": {
      "image/png": "[encoded data removed]",
      "text/plain": [
       "<Figure size 864x576 with 2 Axes>"
      ]
     },
     "metadata": {
      "needs_background": "light"
     },
     "output_type": "display_data"
    }
   ],
   "source": [
    "# Visualize the correlations using a heatmap\n",
    "plt.figure(figsize=(12, 8))\n",
    "sns.heatmap(filtered_df.corr(), annot=True, cmap='coolwarm')\n",
    "plt.title(\"Correlation Heatmap Excluding 'date' and 'id'\")\n",
    "plt.show()"
   ]
  },
  {
   "cell_type": "markdown",
   "metadata": {},
   "source": [
    "#### CREATING A BASELINE MODEL\n",
    "    A baseline model acts as a starting point for evaluating  models, providing a basic reference point against which complex models are compared.\n"
   ]
  },
  {
   "cell_type": "code",
   "execution_count": 160,
   "metadata": {},
   "outputs": [
    {
     "data": {
      "text/plain": [
       "0.0"
      ]
     },
     "execution_count": 160,
     "metadata": {},
     "output_type": "execute_result"
    }
   ],
   "source": [
    "# fitting the baseline model to the training set and generating a score (r-squared)\n",
    "\n",
    "from sklearn.dummy import DummyRegressor\n",
    "dummy = DummyRegressor()\n",
    "dummy.fit(X_train, y_train)\n",
    "dummy.score(X_train, y_train)\n",
    "\n",
    "# we get an r-squared of 0, because we're predictng using NO features"
   ]
  },
  {
   "cell_type": "code",
   "execution_count": 161,
   "metadata": {},
   "outputs": [
    {
     "data": {
      "text/plain": [
       "array([541519.00943451, 541519.00943451, 541519.00943451, ...,\n",
       "       541519.00943451, 541519.00943451, 541519.00943451])"
      ]
     },
     "execution_count": 161,
     "metadata": {},
     "output_type": "execute_result"
    }
   ],
   "source": [
    "# using the baseline model to predict the y_train data\n",
    "y_pred = dummy.predict(X_train)\n",
    "y_pred"
   ]
  },
  {
   "cell_type": "code",
   "execution_count": 162,
   "metadata": {},
   "outputs": [
    {
     "name": "stdout",
     "output_type": "stream",
     "text": [
      "Mean Squared Error : 368958.0485742971\n",
      "R-squared : 0.0\n"
     ]
    }
   ],
   "source": [
    "from sklearn.metrics import mean_squared_error, mean_absolute_error, r2_score\n",
    "\n",
    "# find metrics.\n",
    "dummy_rmse = mean_squared_error(y_train, y_pred, squared=False )\n",
    "dummy_r2 = r2_score(y_train, y_pred)\n",
    "print(f'Mean Squared Error : {dummy_rmse}')\n",
    "print(f'R-squared : {dummy_r2}')"
   ]
  },
  {
   "cell_type": "markdown",
   "metadata": {},
   "source": [
    "From our baseline model, we have a mean score error of 368958 which means that on average this baseline prediction has made an error of 368958 dollars"
   ]
  },
  {
   "cell_type": "markdown",
   "metadata": {},
   "source": [
    "### MODEL 1\n",
    "We will make use of the the features'bedrooms', 'bathrooms', 'sqft_living', 'sqft_lot' and  'floors' as per the feature selection results recommendation because:\n",
    "\n",
    "    1. They are very highly correlated with the target variable (price)\n",
    "    \n",
    "    2. They represent the property features which reflect property size."
   ]
  },
  {
   "cell_type": "markdown",
   "metadata": {},
   "source": [
    "We will make use of the KFold method because:\n",
    "\n",
    "    1. It provides a better estimate of model performance by repeatedly splitting data into training and testing sets\n",
    "\n",
    "    2. It helps prevent overfitting by assessing the model's performance on different test sets, providing a more reliable estimate of how well the model will work on new, unseen data.\n",
    "    \n",
    "    3. It reduces the variance of the performance estimate allowing the use of  more data for training"
   ]
  },
  {
   "cell_type": "markdown",
   "metadata": {},
   "source": [
    "RMSE is the measure of the magnitude of the errors between the predicted and actual values. \n",
    "We will make use of RMSE because:\n",
    "\n",
    "    1. RMSE is expressed in the same units as the dependent  variable making it better for making interpratations.\n",
    "\n",
    "    2. RMSE is very sensitive to outliers which reflect on the model performance.\n",
    "\n",
    "    3. Its widely accepted in the datascience field and its ubiquity makes communication of model performance very easy.\n"
   ]
  },
  {
   "cell_type": "code",
   "execution_count": 163,
   "metadata": {},
   "outputs": [],
   "source": [
    "# Sample 1 data \n",
    "X = df[['bedrooms', 'bathrooms', 'sqft_living', 'sqft_lot', 'floors']].values  # independent variables\n",
    "y = df['price'].values  # dependent variable"
   ]
  },
  {
   "cell_type": "code",
   "execution_count": 164,
   "metadata": {},
   "outputs": [],
   "source": [
    "# Splitting data into training and testing sets\n",
    "X_train, X_test, y_train, y_test = train_test_split(X, y, test_size=0.2, random_state=42) \n",
    "\n",
    "# model\n",
    "model1 = LinearRegression()"
   ]
  },
  {
   "cell_type": "code",
   "execution_count": 165,
   "metadata": {},
   "outputs": [],
   "source": [
    "from sklearn.model_selection import KFold, cross_val_score\n",
    "\n",
    "#  KFold cross-validation. K-fold represents the number of subsets.\n",
    "kf = KFold(n_splits=10, shuffle=True, random_state=42)\n",
    "\n",
    "# Calculate the metrics\n",
    "scores = cross_val_score(model1, X_train, y_train, cv=kf, scoring='neg_root_mean_squared_error')"
   ]
  },
  {
   "cell_type": "code",
   "execution_count": 166,
   "metadata": {},
   "outputs": [],
   "source": [
    "# Convert negative RMSE scores to positive values\n",
    "rmse_scores = -scores # scores represent performance metrics used to access performance\n",
    "\n",
    "# Calculate the mean RMSE and standard deviation\n",
    "mean_rmse = rmse_scores.mean()\n",
    "std_rmse = rmse_scores.std()"
   ]
  },
  {
   "cell_type": "code",
   "execution_count": 167,
   "metadata": {},
   "outputs": [
    {
     "name": "stdout",
     "output_type": "stream",
     "text": [
      "RMSE Scores Training Set 1 =  [231183.03625224 239800.19039487 248434.12646825 239352.84790284\n",
      " 282737.94510033 256786.69539216 270025.70747357 264756.31701972\n",
      " 287349.60027974 257825.4083655 ]\n",
      "Mean RMSE Training Set 1 =  257825.1874649235\n",
      "Standard Deviation Training Set 1=  17760.721416755336\n"
     ]
    }
   ],
   "source": [
    "# Print the results from cross-validation\n",
    "print('RMSE Scores Training Set 1 = ' , rmse_scores)\n",
    "print('Mean RMSE Training Set 1 = ' , mean_rmse)\n",
    "print('Standard Deviation Training Set 1= ' , std_rmse)"
   ]
  },
  {
   "cell_type": "markdown",
   "metadata": {},
   "source": [
    "Model 1 performs way better than the baseline model because the rmse is lower for model1 than for the baseline model, with an error of 257825 ."
   ]
  },
  {
   "cell_type": "markdown",
   "metadata": {},
   "source": [
    "### MODEL 2"
   ]
  },
  {
   "cell_type": "markdown",
   "metadata": {},
   "source": [
    " Adding the grade and condition feature because:\n",
    " \n",
    "    1. Condition assesses how well a property has been maintained over time.\n",
    "    \n",
    "    2 The term \"grade\" in real estate typically refers to the overall quality and construction of a property and we want to see if these features have  an effect on price prediction"
   ]
  },
  {
   "cell_type": "code",
   "execution_count": 168,
   "metadata": {},
   "outputs": [],
   "source": [
    "# Sample 2 data\n",
    "X = df[['bedrooms' ,'bathrooms',  'sqft_living' ,'sqft_lot', 'floors', 'grade','condition' ]].values  #independent variable\n",
    "y = df['price'].values # Dependent variables"
   ]
  },
  {
   "cell_type": "code",
   "execution_count": 169,
   "metadata": {},
   "outputs": [],
   "source": [
    "#Split the data\n",
    "X_train, X_test, y_train, y_test = train_test_split(X, y, test_size=0.2, random_state=42)\n",
    "\n",
    "# Model to use\n",
    "model2 = LinearRegression()\n",
    "\n",
    "# KFold cross-validation\n",
    "\n",
    "kf = KFold(n_splits=10, shuffle=True, random_state=42)\n"
   ]
  },
  {
   "cell_type": "code",
   "execution_count": 170,
   "metadata": {},
   "outputs": [],
   "source": [
    "# metrics \n",
    "scores2 = cross_val_score(model2, X_train, y_train, cv=kf, scoring='neg_root_mean_squared_error')\n",
    "\n",
    "# Convert negative RMSE scores to positive values\n",
    "rmse_scores2 = -scores2 #  scores represent performance metrics used to access performance"
   ]
  },
  {
   "cell_type": "code",
   "execution_count": 171,
   "metadata": {},
   "outputs": [
    {
     "name": "stdout",
     "output_type": "stream",
     "text": [
      "RMSE Scores Training Set 2 =  [217635.28986904 223123.52306384 236956.07643233 223024.89197489\n",
      " 267043.8204853  239542.9944887  263859.97273588 246367.90042313\n",
      " 277644.34468786 245608.70270131]\n",
      "Mean RMSE  Training Set 2 =  244080.75168622867\n",
      "Standard Deviation Training Set 2 =  19250.636148258403\n"
     ]
    }
   ],
   "source": [
    "# mean RMSE and std\n",
    "mean_rmse2 = rmse_scores2.mean()\n",
    "std_rmse2 = rmse_scores2.std()\n",
    "\n",
    "# results\n",
    "print('RMSE Scores Training Set 2 = ' , rmse_scores2)\n",
    "print ('Mean RMSE  Training Set 2 = ' ,mean_rmse2)\n",
    "print('Standard Deviation Training Set 2 = ', std_rmse2)"
   ]
  },
  {
   "cell_type": "markdown",
   "metadata": {},
   "source": [
    "### MODEL 3"
   ]
  },
  {
   "cell_type": "markdown",
   "metadata": {},
   "source": [
    " Adding renovated column because renovations can have an overall effect on the condition and grading of the house."
   ]
  },
  {
   "cell_type": "code",
   "execution_count": 172,
   "metadata": {},
   "outputs": [],
   "source": [
    "# Sample 3 data\n",
    "X = df[['bedrooms', 'bathrooms', 'sqft_living', 'sqft_lot', 'floors', 'grade','condition', 'renovated']].values  # independent variables\n",
    "y = df['price'].values  # dependent variable"
   ]
  },
  {
   "cell_type": "code",
   "execution_count": 173,
   "metadata": {},
   "outputs": [],
   "source": [
    "#Split the data\n",
    "X_train, X_test, y_train, y_test = train_test_split(X, y, test_size=0.2, random_state=42)\n",
    "\n",
    "# Model to use\n",
    "model3 = LinearRegression()\n",
    "\n",
    "# KFold cross-validation\n",
    "\n",
    "kf = KFold(n_splits=10, shuffle=True, random_state=42)\n"
   ]
  },
  {
   "cell_type": "code",
   "execution_count": 174,
   "metadata": {},
   "outputs": [],
   "source": [
    "#  metrics\n",
    "scores3 = cross_val_score(model3, X_train, y_train, cv=kf, scoring='neg_root_mean_squared_error')\n",
    "\n",
    "# Convert negative RMSE scores to positive values\n",
    "rmse_scores3 = -scores3  # scores represent performance metrics used to access performance"
   ]
  },
  {
   "cell_type": "code",
   "execution_count": 175,
   "metadata": {},
   "outputs": [
    {
     "name": "stdout",
     "output_type": "stream",
     "text": [
      "RMSE Scores Training Set 3 =  [215457.11001976 219590.26348621 235955.26287598 222226.4756466\n",
      " 264858.45197009 238051.57151706 259700.42026363 244280.46334467\n",
      " 273742.16097931 244223.49049924]\n",
      "Mean RMSE  Training Set 3 =  241808.56706025646\n",
      "Standard Deviation Training Set 3 =  18716.30023224469\n"
     ]
    }
   ],
   "source": [
    "# mean RMSE and standard deviation\n",
    "mean_rmse3 = rmse_scores3.mean()\n",
    "std_rmse3 = rmse_scores3.std()\n",
    "\n",
    "# Print the results from cross-validation\n",
    "print('RMSE Scores Training Set 3 = ' , rmse_scores3)\n",
    "print ('Mean RMSE  Training Set 3 = ' ,mean_rmse3)\n",
    "print('Standard Deviation Training Set 3 = ', std_rmse3)"
   ]
  },
  {
   "cell_type": "code",
   "execution_count": 176,
   "metadata": {},
   "outputs": [
    {
     "name": "stdout",
     "output_type": "stream",
     "text": [
      "Intercept: -685407.2389474079\n",
      "Coefficients: [-4.80687074e+04 -1.22769452e+04  2.20430387e+02 -4.02793546e-01\n",
      " -2.12433121e+04  1.08991704e+05  6.34880869e+04  1.86162544e+05]\n"
     ]
    }
   ],
   "source": [
    "#Calculate coefficients.\n",
    " \n",
    "# Fit the model to your data\n",
    "model3.fit(X_train, y_train)\n",
    "\n",
    "# Access the intercept and coefficients\n",
    "intercept = model3.intercept_\n",
    "coefficients = model3.coef_\n",
    "\n",
    "# Print the intercept and coefficients\n",
    "print('Intercept:', intercept)\n",
    "print('Coefficients:', coefficients)"
   ]
  },
  {
   "cell_type": "markdown",
   "metadata": {},
   "source": [
    "Each coefficient represents how much the dependent variable, price, is expected to change for a one-unit change in the corresponding independent variable.\n",
    "\n",
    "**bedrooms** - For each additional bedroom the price is expected to decrease by approximately 48,068 $.\n",
    "\n",
    "**bathrooms** - For each additional bathroom, the price is expected to decrease by approximately $12,277.\n",
    "\n",
    "**sqft_living** - For each additional square foot of living space, the price is expected to increase by approximately $220.43.\n",
    "\n",
    "**sqft_lot** - For each additional square foot of lot space, the price is expected to decrease by approximately $0.40.\n",
    "\n",
    "**floors** - For each additional floor, the price is expected to decrease by approximately $21,243.\n",
    "\n",
    "**grade** - For each increase in the grade, the price is expected to increase by approximately $108,992.\n",
    "\n",
    "**condition** - For each increase in the condition rating, the price is expected to increase by approximately $63,488.\n",
    "\n",
    "**renovated** - If a house is renovated, the price is expected to increase by approximately $186,163.\n",
    "\n",
    "NOTE: Multicollinearity can lead to negative coefficients in a linear regression model and this can be handled by transforming the correlated variables to create a single variable that captures the shared information."
   ]
  },
  {
   "cell_type": "markdown",
   "metadata": {},
   "source": [
    "### BUSINESS PROBLEM 2 \n",
    "\n",
    "The property features to pay attention to should be the living space, property grade, property condition and whether the property has been renovated because a unit increase in each feature leads to an increase in price"
   ]
  },
  {
   "cell_type": "markdown",
   "metadata": {},
   "source": [
    "### MODEL 4\n",
    "    See how creating a model without all the variables with a price dececrease will affect the predictions"
   ]
  },
  {
   "cell_type": "code",
   "execution_count": 177,
   "metadata": {},
   "outputs": [],
   "source": [
    "X = df[[ 'sqft_living', 'bedrooms', 'sqft_lot','grade','condition', 'renovated']].values  # independent variables\n",
    "y = df['price'].values  # dependent variable"
   ]
  },
  {
   "cell_type": "code",
   "execution_count": 178,
   "metadata": {},
   "outputs": [],
   "source": [
    "#Split the data\n",
    "X_train, X_test, y_train, y_test = train_test_split(X, y, test_size=0.2, random_state=42)\n",
    "\n",
    "# Model to use\n",
    "model4 = LinearRegression()\n",
    "\n",
    "# KFold cross-validation\n",
    "\n",
    "kf = KFold(n_splits=10, shuffle=True, random_state=42)"
   ]
  },
  {
   "cell_type": "code",
   "execution_count": 179,
   "metadata": {},
   "outputs": [],
   "source": [
    "#  metrics\n",
    "scores4 = cross_val_score(model4, X_train, y_train, cv=kf, scoring='neg_root_mean_squared_error')\n",
    "\n",
    "# Convert negative RMSE scores to positive values\n",
    "rmse_scores4 = -scores4  # scores represent performance metrics used to access performance"
   ]
  },
  {
   "cell_type": "code",
   "execution_count": 180,
   "metadata": {},
   "outputs": [
    {
     "name": "stdout",
     "output_type": "stream",
     "text": [
      "RMSE Scores Training Set 4 =  [215459.30664209 220157.84856585 236171.07126088 222555.39031725\n",
      " 265505.9856513  237939.0519157  259566.7551502  245139.11242639\n",
      " 273976.11153304 244682.77901622]\n",
      "Mean RMSE  Training Set 4 =  242115.34124789148\n",
      "Standard Deviation Training Set 4 =  18736.49057122135\n"
     ]
    }
   ],
   "source": [
    "# mean RMSE and standard deviation\n",
    "mean_rmse4 = rmse_scores4.mean()\n",
    "std_rmse4 = rmse_scores4.std()\n",
    "\n",
    "# Print the results\n",
    "print('RMSE Scores Training Set 4 = ' , rmse_scores4)\n",
    "print ('Mean RMSE  Training Set 4 = ' ,mean_rmse4)\n",
    "print('Standard Deviation Training Set 4 = ', std_rmse4)"
   ]
  },
  {
   "cell_type": "markdown",
   "metadata": {},
   "source": [
    "### MODEL  INTERPRETATION\n",
    "1. Model 3 appears to perform consistently well with an RMSE of 241808. This is the average prediction error of our model meaning that on average our predictions make an error of 241,808 dollars in terms of property prices. The model however has some room for improvement because an error of 241,807 is relatively high. The standard deviation, which represents the variability of scores across the data sets is 18716\n",
    "\n",
    "\n",
    "2. The 4th model did not improve even after using variables with price increase. However it was not so far off from the third model"
   ]
  },
  {
   "cell_type": "markdown",
   "metadata": {},
   "source": [
    "### TESTING MODEL THREE SINCE ITS OUR BEST PERFORMING MODEL."
   ]
  },
  {
   "cell_type": "code",
   "execution_count": 181,
   "metadata": {},
   "outputs": [
    {
     "name": "stdout",
     "output_type": "stream",
     "text": [
      "Mean RMSE =  242102.20851101525\n",
      "std_RMSE =  11348.261481664362\n"
     ]
    }
   ],
   "source": [
    "# initialize list\n",
    "rmse_scores = []\n",
    " \n",
    " #Perform k-fold validation\n",
    "for train_index, test_index in kf.split(X):\n",
    "    X_train, X_test = X[train_index], X[test_index]\n",
    "    y_train, y_test = y[train_index], y[test_index]\n",
    "\n",
    "# Create and fit the model \n",
    "    model3 = LinearRegression()\n",
    "    model3.fit(X_train, y_train)\n",
    "\n",
    "# Make predictions\n",
    "    predictions_test = model3.predict(X_test)\n",
    "\n",
    "# Calculate metrics\n",
    "    rmse_fold = np.sqrt(mean_squared_error(y_test, predictions_test)) # fold represents subsets\n",
    "    rmse_scores.append(rmse_fold)\n",
    "\n",
    "# Calculate the mean RMSE across all folds \n",
    "    mean_rmse = np.mean(rmse_scores)\n",
    "    std_rmse = np.std(rmse_scores)\n",
    "\n",
    "print('Mean RMSE = ' , mean_rmse)\n",
    "print('std_RMSE = ' , std_rmse)"
   ]
  },
  {
   "cell_type": "markdown",
   "metadata": {},
   "source": [
    "### TEST INTERPRATATIONS\n",
    "The average prediction error on our test data of our model is 242,102.21 meaning that with every prediction there is an error of approximatley 242,102.21 dollars in property prices. This can be interprated as, on average our price predictions deviate from the actuall values by 241,102.21\n",
    "\n",
    "The standard deviation, which represents the variability of scores across the data sets, is low at 11348.26. A lower std indicates that the model is performing consistently. Standard deviation shows how close predictions are  to the actual values across different subsets of data. "
   ]
  },
  {
   "cell_type": "markdown",
   "metadata": {},
   "source": [
    "### CHALLENGES\n",
    "1. Having to deal with alot of categorical data which cannot be incoporated in the modelling unless its converted.\n",
    "\n",
    "2. Identifying which features had the highest influence on price is critical for developing a regression model . However it can be very difficult especially when you have so many features to choose from.\n",
    " \n",
    "3. Model selection - Choosing the most suitable model.\n",
    "\n",
    "### IMPROVEMENTS\n",
    "1. Collect new data and update  the model on a regular basis to ensure it accurately reflects current market conditions.\n",
    "\n",
    "2. Experiment with different regression algorithms\n",
    "\n",
    "3. Continue to investigate and address multicollinearity among independent variables\n",
    "\n",
    "4. Fine tuning the hyperparameters . Common hyperparameters for regression models include the number of features to consider when splitting data.\n",
    "\n"
   ]
  },
  {
   "cell_type": "markdown",
   "metadata": {},
   "source": [
    "### BUSINESS RECOMMENDATIONS\n",
    "1. Timing the market: Seasonal analysis can be used in marketing and sales strategies. Consider aligning property listings and promotions with peak sales seasons.\n",
    "\n",
    "2. Adapt property prices in real-time based on market conditions, seasonality, and demand changes by implementing dynamic pricing strategies.\n",
    "\n",
    "3. Constantly monitoring and analyzing competitors' pricing strategies in order to maintain competitiveness and maximize revenue.\n",
    "\n",
    "4. Tailor pricing recommendations to individual properties based on their unique features and market demand using data-driven insights.\n",
    "\n",
    "5. Gather more feedback from customers, both buyers and sellers, to understand their preferences and experiences and use this feedback to refine strategies and what to offer\n",
    "\n",
    "6. Stay updated with market trends, regulations, and technological advancements in the real estate industry and be adaptable and  prepared to adjust strategies as the market evolves.\n",
    "\n",
    "7. More collaborations with real estate professionals and market experts with knowledge and experience on the market and make use of their insights to complement data-driven analyses.\n",
    "\n",
    "8. Explore additional data sources that can provide more insights into market trends, customer behavior, and competitor activities."
   ]
  }
 ],
 "metadata": {
  "kernelspec": {
   "display_name": "Python (learn-env)",
   "language": "python",
   "name": "learn-env"
  },
  "language_info": {
   "codemirror_mode": {
    "name": "ipython",
    "version": 3
   },
   "file_extension": ".py",
   "mimetype": "text/x-python",
   "name": "python",
   "nbconvert_exporter": "python",
   "pygments_lexer": "ipython3",
   "version": "3.8.5"
  }
 },
 "nbformat": 4,
 "nbformat_minor": 2
}
